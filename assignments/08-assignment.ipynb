{
 "cells": [
  {
   "cell_type": "markdown",
   "metadata": {},
   "source": [
    "# Assignment 08"
   ]
  },
  {
   "cell_type": "markdown",
   "metadata": {},
   "source": [
    "## Try to submit the assignment as an html file"
   ]
  },
  {
   "cell_type": "markdown",
   "metadata": {},
   "source": [
    "### Print your Emory code below"
   ]
  },
  {
   "cell_type": "code",
   "execution_count": null,
   "metadata": {},
   "outputs": [],
   "source": [
    "# Write your answer here\n",
    "print(\"2608991\")"
   ]
  },
  {
   "cell_type": "markdown",
   "metadata": {},
   "source": [
    "### Import the pandas, numpy, and matplotlib.pyplot libraries"
   ]
  },
  {
   "cell_type": "code",
   "execution_count": 1,
   "metadata": {},
   "outputs": [],
   "source": [
    "# Write your answer here\n",
    "import pandas as pd\n",
    "import matplotlib.pyplot as plt\n",
    "import numpy as np"
   ]
  },
  {
   "cell_type": "markdown",
   "metadata": {},
   "source": [
    "### This script creates a DataFrame with driver data for questions (a)-(d). Please execute the code and check the DataFrame."
   ]
  },
  {
   "cell_type": "code",
   "execution_count": 2,
   "metadata": {},
   "outputs": [
    {
     "name": "stdout",
     "output_type": "stream",
     "text": [
      "   driver_id         driver_name nationality  lap_times\n",
      "0          1        Simon Cowell     British         74\n",
      "1          2     Fernando Alonso     Spanish         26\n",
      "2          3       Heinrich Bach      German         82\n",
      "3          4     Giorgio Soprano     Spanish         87\n",
      "4          5      Lewis Hamilton     British        103\n",
      "5          6        Henry Louvre     British         32\n",
      "6          7    Sebastian Vettel      German         91\n",
      "7          8          Lukas Zech      German         53\n",
      "8          9         Donic Kovak      German         11\n",
      "9         10  Michael Holzmieter      German         24\n"
     ]
    }
   ],
   "source": [
    "# Create the homework_data DataFrame\n",
    "homework_data = pd.DataFrame({\n",
    "    'driver_id': [1, 2, 3, 4, 5, 6, 7, 8, 9, 10],\n",
    "    'driver_name': [\n",
    "        'Simon Cowell', 'Fernando Alonso', 'Heinrich Bach',\n",
    "        'Giorgio Soprano', 'Lewis Hamilton', 'Henry Louvre',\n",
    "        'Sebastian Vettel', 'Lukas Zech', 'Donic Kovak',\n",
    "        'Michael Holzmieter'\n",
    "    ],\n",
    "    'nationality': [\n",
    "        'British', 'Spanish', 'German', 'Spanish', 'British',\n",
    "        'British', 'German', 'German', 'German', 'German'\n",
    "    ],\n",
    "    'lap_times': [74, 26, 82, 87, 103, 32, 91, 53, 11, 24]\n",
    "})\n",
    "\n",
    "# Display the DataFrame to verify entries\n",
    "print(homework_data)\n"
   ]
  },
  {
   "cell_type": "markdown",
   "metadata": {},
   "source": [
    "<font size = \"5\">\n",
    "\n",
    "(a) Subset and Sort\n",
    "\n",
    "<font size = \"3\">\n",
    "\n",
    "- Use pandas to filter drivers whose nationality is British using `query`.\n",
    "- Sort the resulting DataFrame in ascending order by `driver_name` using `sort_values`.\n"
   ]
  },
  {
   "cell_type": "code",
   "execution_count": 10,
   "metadata": {},
   "outputs": [
    {
     "data": {
      "text/html": [
       "<div>\n",
       "<style scoped>\n",
       "    .dataframe tbody tr th:only-of-type {\n",
       "        vertical-align: middle;\n",
       "    }\n",
       "\n",
       "    .dataframe tbody tr th {\n",
       "        vertical-align: top;\n",
       "    }\n",
       "\n",
       "    .dataframe thead th {\n",
       "        text-align: right;\n",
       "    }\n",
       "</style>\n",
       "<table border=\"1\" class=\"dataframe\">\n",
       "  <thead>\n",
       "    <tr style=\"text-align: right;\">\n",
       "      <th></th>\n",
       "      <th>driver_id</th>\n",
       "      <th>driver_name</th>\n",
       "      <th>nationality</th>\n",
       "      <th>lap_times</th>\n",
       "    </tr>\n",
       "  </thead>\n",
       "  <tbody>\n",
       "    <tr>\n",
       "      <th>0</th>\n",
       "      <td>1</td>\n",
       "      <td>Simon Cowell</td>\n",
       "      <td>British</td>\n",
       "      <td>74</td>\n",
       "    </tr>\n",
       "    <tr>\n",
       "      <th>4</th>\n",
       "      <td>5</td>\n",
       "      <td>Lewis Hamilton</td>\n",
       "      <td>British</td>\n",
       "      <td>103</td>\n",
       "    </tr>\n",
       "    <tr>\n",
       "      <th>5</th>\n",
       "      <td>6</td>\n",
       "      <td>Henry Louvre</td>\n",
       "      <td>British</td>\n",
       "      <td>32</td>\n",
       "    </tr>\n",
       "  </tbody>\n",
       "</table>\n",
       "</div>"
      ],
      "text/plain": [
       "   driver_id     driver_name nationality  lap_times\n",
       "0          1    Simon Cowell     British         74\n",
       "4          5  Lewis Hamilton     British        103\n",
       "5          6    Henry Louvre     British         32"
      ]
     },
     "execution_count": 10,
     "metadata": {},
     "output_type": "execute_result"
    }
   ],
   "source": [
    "# Write your answer here\n",
    "subset_a = homework_data.query(\"nationality == 'British'\")\n",
    "subset_a1= subset_a.sort_values(by = \"driver_name\", ascending=False)\n",
    "subset_a1"
   ]
  },
  {
   "cell_type": "markdown",
   "metadata": {},
   "source": [
    "<font size = \"5\">\n",
    "\n",
    "(b) Count Unique Values\n",
    "\n",
    "<font size = \"3\">\n",
    "\n",
    "- Count the number of unique nationalities in the dataset using `nunique`.\n",
    "- Count the total number of rows in the dataset using `shape`.\n",
    "- Assign clear variable names to these counts.\n"
   ]
  },
  {
   "cell_type": "code",
   "execution_count": 26,
   "metadata": {},
   "outputs": [
    {
     "name": "stdout",
     "output_type": "stream",
     "text": [
      "3\n",
      "10\n"
     ]
    }
   ],
   "source": [
    "# Write your answer here\n",
    "print(homework_data[\"nationality\"].nunique())\n",
    "print(homework_data.shape[0])"
   ]
  },
  {
   "cell_type": "markdown",
   "metadata": {},
   "source": [
    "<font size = \"5\">\n",
    "\n",
    "(c) Groupby and Aggregate\n",
    "\n",
    "<font size = \"3\">\n",
    "\n",
    "- Calculate the average of `lap_times` grouped by `driver_id` using `groupby` and `agg`.\n",
    "- Reset the index of the resulting DataFrame.\n",
    "- Sort the results by the average `lap_times`."
   ]
  },
  {
   "cell_type": "code",
   "execution_count": 35,
   "metadata": {},
   "outputs": [
    {
     "data": {
      "text/html": [
       "<div>\n",
       "<style scoped>\n",
       "    .dataframe tbody tr th:only-of-type {\n",
       "        vertical-align: middle;\n",
       "    }\n",
       "\n",
       "    .dataframe tbody tr th {\n",
       "        vertical-align: top;\n",
       "    }\n",
       "\n",
       "    .dataframe thead th {\n",
       "        text-align: right;\n",
       "    }\n",
       "</style>\n",
       "<table border=\"1\" class=\"dataframe\">\n",
       "  <thead>\n",
       "    <tr style=\"text-align: right;\">\n",
       "      <th></th>\n",
       "      <th>average_time</th>\n",
       "    </tr>\n",
       "    <tr>\n",
       "      <th>driver_id</th>\n",
       "      <th></th>\n",
       "    </tr>\n",
       "  </thead>\n",
       "  <tbody>\n",
       "    <tr>\n",
       "      <th>1</th>\n",
       "      <td>74.0</td>\n",
       "    </tr>\n",
       "    <tr>\n",
       "      <th>2</th>\n",
       "      <td>26.0</td>\n",
       "    </tr>\n",
       "    <tr>\n",
       "      <th>3</th>\n",
       "      <td>82.0</td>\n",
       "    </tr>\n",
       "    <tr>\n",
       "      <th>4</th>\n",
       "      <td>87.0</td>\n",
       "    </tr>\n",
       "    <tr>\n",
       "      <th>5</th>\n",
       "      <td>103.0</td>\n",
       "    </tr>\n",
       "    <tr>\n",
       "      <th>6</th>\n",
       "      <td>32.0</td>\n",
       "    </tr>\n",
       "    <tr>\n",
       "      <th>7</th>\n",
       "      <td>91.0</td>\n",
       "    </tr>\n",
       "    <tr>\n",
       "      <th>8</th>\n",
       "      <td>53.0</td>\n",
       "    </tr>\n",
       "    <tr>\n",
       "      <th>9</th>\n",
       "      <td>11.0</td>\n",
       "    </tr>\n",
       "    <tr>\n",
       "      <th>10</th>\n",
       "      <td>24.0</td>\n",
       "    </tr>\n",
       "  </tbody>\n",
       "</table>\n",
       "</div>"
      ],
      "text/plain": [
       "           average_time\n",
       "driver_id              \n",
       "1                  74.0\n",
       "2                  26.0\n",
       "3                  82.0\n",
       "4                  87.0\n",
       "5                 103.0\n",
       "6                  32.0\n",
       "7                  91.0\n",
       "8                  53.0\n",
       "9                  11.0\n",
       "10                 24.0"
      ]
     },
     "execution_count": 35,
     "metadata": {},
     "output_type": "execute_result"
    }
   ],
   "source": [
    "# Write your answer here\n",
    "average_lap_times = (homework_data.groupby(\"driver_id\").agg(average_time=(\"lap_times\", \"mean\")))\n",
    "average_lap_times"
   ]
  },
  {
   "cell_type": "markdown",
   "metadata": {},
   "source": [
    "<font size = \"5\">\n",
    "\n",
    "(d) Groupby, Aggregate, and Filter\n",
    "\n",
    "<font size = \"3\">\n",
    "\n",
    "- Calculate the sum of `lap_times` grouped by `nationality` using `groupby` and `agg`.\n",
    "- Filter nationalities with a sum of `lap_times` strictly higher than 150 using `query`.\n"
   ]
  },
  {
   "cell_type": "code",
   "execution_count": 47,
   "metadata": {},
   "outputs": [
    {
     "data": {
      "text/html": [
       "<div>\n",
       "<style scoped>\n",
       "    .dataframe tbody tr th:only-of-type {\n",
       "        vertical-align: middle;\n",
       "    }\n",
       "\n",
       "    .dataframe tbody tr th {\n",
       "        vertical-align: top;\n",
       "    }\n",
       "\n",
       "    .dataframe thead th {\n",
       "        text-align: right;\n",
       "    }\n",
       "</style>\n",
       "<table border=\"1\" class=\"dataframe\">\n",
       "  <thead>\n",
       "    <tr style=\"text-align: right;\">\n",
       "      <th></th>\n",
       "      <th>sum_time</th>\n",
       "    </tr>\n",
       "    <tr>\n",
       "      <th>nationality</th>\n",
       "      <th></th>\n",
       "    </tr>\n",
       "  </thead>\n",
       "  <tbody>\n",
       "    <tr>\n",
       "      <th>British</th>\n",
       "      <td>209</td>\n",
       "    </tr>\n",
       "    <tr>\n",
       "      <th>German</th>\n",
       "      <td>261</td>\n",
       "    </tr>\n",
       "  </tbody>\n",
       "</table>\n",
       "</div>"
      ],
      "text/plain": [
       "             sum_time\n",
       "nationality          \n",
       "British           209\n",
       "German            261"
      ]
     },
     "execution_count": 47,
     "metadata": {},
     "output_type": "execute_result"
    }
   ],
   "source": [
    "# Write your answer here\n",
    "sum_lap_times = (homework_data.groupby(\"nationality\").agg(sum_time=(\"lap_times\",\"sum\")))\n",
    "sum_over150=sum_lap_times.query(\"sum_time > 150\")\n",
    "sum_over150"
   ]
  },
  {
   "cell_type": "markdown",
   "metadata": {},
   "source": [
    "<font size = \"5\">\n",
    "\n",
    "(e) Plot\n",
    "\n",
    "<font size = \"3\">\n",
    "\n",
    "- Plot the average `lap_times` grouped by `driver_id` using `plot` and `kind='bar'`.\n",
    "- Set the title of the plot to '`Average Lap Times by Driver ID`'.\n",
    "- Set the x-axis label to '`Driver ID`'.\n",
    "- Set the y-axis label to '`Average Lap Time`'."
   ]
  },
  {
   "cell_type": "code",
   "execution_count": 53,
   "metadata": {},
   "outputs": [
    {
     "data": {
      "image/png": "[encoded data removed]",
      "text/plain": [
       "<Figure size 640x480 with 1 Axes>"
      ]
     },
     "metadata": {},
     "output_type": "display_data"
    }
   ],
   "source": [
    "# Write your answer here\n",
    "average_lap_times.plot(kind=\"bar\")\n",
    "plt.title(\"Average Lap Times by Driver ID\")\n",
    "plt.xlabel(\"Driver ID\")\n",
    "plt.ylabel(\"Average Lap Time\")\n",
    "plt.show()"
   ]
  }
 ],
 "metadata": {
  "kernelspec": {
   "display_name": "base",
   "language": "python",
   "name": "python3"
  },
  "language_info": {
   "codemirror_mode": {
    "name": "ipython",
    "version": 3
   },
   "file_extension": ".py",
   "mimetype": "text/x-python",
   "name": "python",
   "nbconvert_exporter": "python",
   "pygments_lexer": "ipython3",
   "version": "3.12.4"
  }
 },
 "nbformat": 4,
 "nbformat_minor": 2
}
